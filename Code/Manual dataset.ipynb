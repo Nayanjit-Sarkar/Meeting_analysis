{
 "cells": [
  {
   "cell_type": "code",
   "execution_count": 7,
   "id": "9b12d564",
   "metadata": {},
   "outputs": [],
   "source": [
    "import pandas as pd\n",
    "import csv \n",
    "import os\n",
    "os.chdir(r\"D:\\MACHINE LEARNING\\Meeting Analysis\\Data\")"
   ]
  },
  {
   "cell_type": "code",
   "execution_count": 8,
   "id": "aa1bb194",
   "metadata": {},
   "outputs": [
    {
     "data": {
      "text/html": [
       "<div>\n",
       "<style scoped>\n",
       "    .dataframe tbody tr th:only-of-type {\n",
       "        vertical-align: middle;\n",
       "    }\n",
       "\n",
       "    .dataframe tbody tr th {\n",
       "        vertical-align: top;\n",
       "    }\n",
       "\n",
       "    .dataframe thead th {\n",
       "        text-align: right;\n",
       "    }\n",
       "</style>\n",
       "<table border=\"1\" class=\"dataframe\">\n",
       "  <thead>\n",
       "    <tr style=\"text-align: right;\">\n",
       "      <th></th>\n",
       "      <th>start_time,end_time,speaker,text</th>\n",
       "    </tr>\n",
       "  </thead>\n",
       "  <tbody>\n",
       "    <tr>\n",
       "      <th>0</th>\n",
       "      <td>00:10:15,\"00:12:05\",\"Alice,\"I have an importan...</td>\n",
       "    </tr>\n",
       "    <tr>\n",
       "      <th>1</th>\n",
       "      <td>02:30:45,\"02:32:10\",\"Bob\",\"We need someone to ...</td>\n",
       "    </tr>\n",
       "    <tr>\n",
       "      <th>2</th>\n",
       "      <td>08:45:20,\"08:47:05\",\"Carol\",\"I would like to a...</td>\n",
       "    </tr>\n",
       "    <tr>\n",
       "      <th>3</th>\n",
       "      <td>09:15:30,\"09:17:10\",\"David\",\"As discussed earl...</td>\n",
       "    </tr>\n",
       "    <tr>\n",
       "      <th>4</th>\n",
       "      <td>14:20:50,\"14:23:00\",\"Emma\",\"We have an urgent ...</td>\n",
       "    </tr>\n",
       "    <tr>\n",
       "      <th>...</th>\n",
       "      <td>...</td>\n",
       "    </tr>\n",
       "    <tr>\n",
       "      <th>215</th>\n",
       "      <td>08:45:55,\"08:47:20\",\"Charlotte\",\"Daniel, condu...</td>\n",
       "    </tr>\n",
       "    <tr>\n",
       "      <th>216</th>\n",
       "      <td>15:30:15,\"15:31:40\",\"Michael\",\"Grace, analyze ...</td>\n",
       "    </tr>\n",
       "    <tr>\n",
       "      <th>217</th>\n",
       "      <td>12:40:10,\"12:41:35\",\"Aiden\",\"Lily, create a co...</td>\n",
       "    </tr>\n",
       "    <tr>\n",
       "      <th>218</th>\n",
       "      <td>09:15:30,\"09:16:55\",\"Olivia\",\"William, lead th...</td>\n",
       "    </tr>\n",
       "    <tr>\n",
       "      <th>219</th>\n",
       "      <td>20:00:15,\"23:01:40\",\"Ashwin\",\"Nayanjit, Build ...</td>\n",
       "    </tr>\n",
       "  </tbody>\n",
       "</table>\n",
       "<p>220 rows × 1 columns</p>\n",
       "</div>"
      ],
      "text/plain": [
       "                      start_time,end_time,speaker,text\n",
       "0    00:10:15,\"00:12:05\",\"Alice,\"I have an importan...\n",
       "1    02:30:45,\"02:32:10\",\"Bob\",\"We need someone to ...\n",
       "2    08:45:20,\"08:47:05\",\"Carol\",\"I would like to a...\n",
       "3    09:15:30,\"09:17:10\",\"David\",\"As discussed earl...\n",
       "4    14:20:50,\"14:23:00\",\"Emma\",\"We have an urgent ...\n",
       "..                                                 ...\n",
       "215  08:45:55,\"08:47:20\",\"Charlotte\",\"Daniel, condu...\n",
       "216  15:30:15,\"15:31:40\",\"Michael\",\"Grace, analyze ...\n",
       "217  12:40:10,\"12:41:35\",\"Aiden\",\"Lily, create a co...\n",
       "218  09:15:30,\"09:16:55\",\"Olivia\",\"William, lead th...\n",
       "219  20:00:15,\"23:01:40\",\"Ashwin\",\"Nayanjit, Build ...\n",
       "\n",
       "[220 rows x 1 columns]"
      ]
     },
     "execution_count": 8,
     "metadata": {},
     "output_type": "execute_result"
    }
   ],
   "source": [
    "df = pd.read_csv(\"meeting_transcript.txt\", delimiter = '\\t')\n",
    "df"
   ]
  },
  {
   "cell_type": "code",
   "execution_count": 4,
   "id": "046dcb5d",
   "metadata": {},
   "outputs": [],
   "source": [
    "df.to_csv(\"meeting_transcript.csv\", header=0, index = False)"
   ]
  },
  {
   "cell_type": "code",
   "execution_count": 38,
   "id": "50f79b7d",
   "metadata": {},
   "outputs": [],
   "source": [
    "with open(\"transcript.txt\", \"w\") as file:\n",
    "    for sent in df[\"text\"]:\n",
    "        file.write(sent + \"\\n\")"
   ]
  },
  {
   "cell_type": "code",
   "execution_count": 35,
   "id": "03cf562a",
   "metadata": {},
   "outputs": [
    {
     "data": {
      "text/plain": [
       "start_time                                             11:30:45\n",
       "end_time                                               11:32:10\n",
       "speaker       Ganesh ,Schedule and coordinate meetings with ...\n",
       "text                                                        NaN\n",
       "Name: 40, dtype: object"
      ]
     },
     "execution_count": 35,
     "metadata": {},
     "output_type": "execute_result"
    }
   ],
   "source": [
    "df.iloc[40]"
   ]
  },
  {
   "cell_type": "code",
   "execution_count": null,
   "id": "a8330dba",
   "metadata": {},
   "outputs": [],
   "source": [
    "zzz"
   ]
  }
 ],
 "metadata": {
  "kernelspec": {
   "display_name": "TextEnv",
   "language": "python",
   "name": "textenv"
  },
  "language_info": {
   "codemirror_mode": {
    "name": "ipython",
    "version": 3
   },
   "file_extension": ".py",
   "mimetype": "text/x-python",
   "name": "python",
   "nbconvert_exporter": "python",
   "pygments_lexer": "ipython3",
   "version": "3.11.3"
  }
 },
 "nbformat": 4,
 "nbformat_minor": 5
}
